{
 "cells": [
  {
   "cell_type": "markdown",
   "metadata": {},
   "source": [
    "## Analysing the popularity of person names across years"
   ]
  },
  {
   "cell_type": "code",
   "execution_count": 1,
   "metadata": {},
   "outputs": [],
   "source": [
    "import numpy as np\n",
    "import matplotlib.pyplot as pp\n",
    "import pandas as pd\n",
    "import seaborn"
   ]
  },
  {
   "cell_type": "code",
   "execution_count": 2,
   "metadata": {},
   "outputs": [],
   "source": [
    "%matplotlib inline"
   ]
  },
  {
   "cell_type": "code",
   "execution_count": 3,
   "metadata": {},
   "outputs": [
    {
     "data": {
      "text/plain": [
       "list"
      ]
     },
     "execution_count": 3,
     "metadata": {},
     "output_type": "execute_result"
    }
   ],
   "source": [
    "names_all = []\n",
    "type(names_all)"
   ]
  },
  {
   "cell_type": "code",
   "execution_count": 4,
   "metadata": {},
   "outputs": [
    {
     "data": {
      "text/html": [
       "<div>\n",
       "<style scoped>\n",
       "    .dataframe tbody tr th:only-of-type {\n",
       "        vertical-align: middle;\n",
       "    }\n",
       "\n",
       "    .dataframe tbody tr th {\n",
       "        vertical-align: top;\n",
       "    }\n",
       "\n",
       "    .dataframe thead th {\n",
       "        text-align: right;\n",
       "    }\n",
       "</style>\n",
       "<table border=\"1\" class=\"dataframe\">\n",
       "  <thead>\n",
       "    <tr style=\"text-align: right;\">\n",
       "      <th></th>\n",
       "      <th>name</th>\n",
       "      <th>sex</th>\n",
       "      <th>number</th>\n",
       "      <th>year</th>\n",
       "    </tr>\n",
       "  </thead>\n",
       "  <tbody>\n",
       "    <tr>\n",
       "      <th>0</th>\n",
       "      <td>Mary</td>\n",
       "      <td>F</td>\n",
       "      <td>7065</td>\n",
       "      <td>1880</td>\n",
       "    </tr>\n",
       "    <tr>\n",
       "      <th>1</th>\n",
       "      <td>Anna</td>\n",
       "      <td>F</td>\n",
       "      <td>2604</td>\n",
       "      <td>1880</td>\n",
       "    </tr>\n",
       "    <tr>\n",
       "      <th>2</th>\n",
       "      <td>Emma</td>\n",
       "      <td>F</td>\n",
       "      <td>2003</td>\n",
       "      <td>1880</td>\n",
       "    </tr>\n",
       "    <tr>\n",
       "      <th>3</th>\n",
       "      <td>Elizabeth</td>\n",
       "      <td>F</td>\n",
       "      <td>1939</td>\n",
       "      <td>1880</td>\n",
       "    </tr>\n",
       "    <tr>\n",
       "      <th>4</th>\n",
       "      <td>Minnie</td>\n",
       "      <td>F</td>\n",
       "      <td>1746</td>\n",
       "      <td>1880</td>\n",
       "    </tr>\n",
       "    <tr>\n",
       "      <th>5</th>\n",
       "      <td>Margaret</td>\n",
       "      <td>F</td>\n",
       "      <td>1578</td>\n",
       "      <td>1880</td>\n",
       "    </tr>\n",
       "    <tr>\n",
       "      <th>6</th>\n",
       "      <td>Ida</td>\n",
       "      <td>F</td>\n",
       "      <td>1472</td>\n",
       "      <td>1880</td>\n",
       "    </tr>\n",
       "    <tr>\n",
       "      <th>7</th>\n",
       "      <td>Alice</td>\n",
       "      <td>F</td>\n",
       "      <td>1414</td>\n",
       "      <td>1880</td>\n",
       "    </tr>\n",
       "    <tr>\n",
       "      <th>8</th>\n",
       "      <td>Bertha</td>\n",
       "      <td>F</td>\n",
       "      <td>1320</td>\n",
       "      <td>1880</td>\n",
       "    </tr>\n",
       "    <tr>\n",
       "      <th>9</th>\n",
       "      <td>Sarah</td>\n",
       "      <td>F</td>\n",
       "      <td>1288</td>\n",
       "      <td>1880</td>\n",
       "    </tr>\n",
       "    <tr>\n",
       "      <th>10</th>\n",
       "      <td>Annie</td>\n",
       "      <td>F</td>\n",
       "      <td>1258</td>\n",
       "      <td>1880</td>\n",
       "    </tr>\n",
       "    <tr>\n",
       "      <th>11</th>\n",
       "      <td>Clara</td>\n",
       "      <td>F</td>\n",
       "      <td>1226</td>\n",
       "      <td>1880</td>\n",
       "    </tr>\n",
       "    <tr>\n",
       "      <th>12</th>\n",
       "      <td>Ella</td>\n",
       "      <td>F</td>\n",
       "      <td>1156</td>\n",
       "      <td>1880</td>\n",
       "    </tr>\n",
       "    <tr>\n",
       "      <th>13</th>\n",
       "      <td>Florence</td>\n",
       "      <td>F</td>\n",
       "      <td>1063</td>\n",
       "      <td>1880</td>\n",
       "    </tr>\n",
       "    <tr>\n",
       "      <th>14</th>\n",
       "      <td>Cora</td>\n",
       "      <td>F</td>\n",
       "      <td>1045</td>\n",
       "      <td>1880</td>\n",
       "    </tr>\n",
       "    <tr>\n",
       "      <th>15</th>\n",
       "      <td>Martha</td>\n",
       "      <td>F</td>\n",
       "      <td>1040</td>\n",
       "      <td>1880</td>\n",
       "    </tr>\n",
       "    <tr>\n",
       "      <th>16</th>\n",
       "      <td>Laura</td>\n",
       "      <td>F</td>\n",
       "      <td>1012</td>\n",
       "      <td>1880</td>\n",
       "    </tr>\n",
       "    <tr>\n",
       "      <th>17</th>\n",
       "      <td>Nellie</td>\n",
       "      <td>F</td>\n",
       "      <td>995</td>\n",
       "      <td>1880</td>\n",
       "    </tr>\n",
       "    <tr>\n",
       "      <th>18</th>\n",
       "      <td>Grace</td>\n",
       "      <td>F</td>\n",
       "      <td>982</td>\n",
       "      <td>1880</td>\n",
       "    </tr>\n",
       "    <tr>\n",
       "      <th>19</th>\n",
       "      <td>Carrie</td>\n",
       "      <td>F</td>\n",
       "      <td>949</td>\n",
       "      <td>1880</td>\n",
       "    </tr>\n",
       "    <tr>\n",
       "      <th>20</th>\n",
       "      <td>Maude</td>\n",
       "      <td>F</td>\n",
       "      <td>858</td>\n",
       "      <td>1880</td>\n",
       "    </tr>\n",
       "    <tr>\n",
       "      <th>21</th>\n",
       "      <td>Mabel</td>\n",
       "      <td>F</td>\n",
       "      <td>808</td>\n",
       "      <td>1880</td>\n",
       "    </tr>\n",
       "    <tr>\n",
       "      <th>22</th>\n",
       "      <td>Bessie</td>\n",
       "      <td>F</td>\n",
       "      <td>796</td>\n",
       "      <td>1880</td>\n",
       "    </tr>\n",
       "    <tr>\n",
       "      <th>23</th>\n",
       "      <td>Jennie</td>\n",
       "      <td>F</td>\n",
       "      <td>793</td>\n",
       "      <td>1880</td>\n",
       "    </tr>\n",
       "    <tr>\n",
       "      <th>24</th>\n",
       "      <td>Gertrude</td>\n",
       "      <td>F</td>\n",
       "      <td>787</td>\n",
       "      <td>1880</td>\n",
       "    </tr>\n",
       "    <tr>\n",
       "      <th>25</th>\n",
       "      <td>Julia</td>\n",
       "      <td>F</td>\n",
       "      <td>783</td>\n",
       "      <td>1880</td>\n",
       "    </tr>\n",
       "    <tr>\n",
       "      <th>26</th>\n",
       "      <td>Hattie</td>\n",
       "      <td>F</td>\n",
       "      <td>769</td>\n",
       "      <td>1880</td>\n",
       "    </tr>\n",
       "    <tr>\n",
       "      <th>27</th>\n",
       "      <td>Edith</td>\n",
       "      <td>F</td>\n",
       "      <td>768</td>\n",
       "      <td>1880</td>\n",
       "    </tr>\n",
       "    <tr>\n",
       "      <th>28</th>\n",
       "      <td>Mattie</td>\n",
       "      <td>F</td>\n",
       "      <td>704</td>\n",
       "      <td>1880</td>\n",
       "    </tr>\n",
       "    <tr>\n",
       "      <th>29</th>\n",
       "      <td>Rose</td>\n",
       "      <td>F</td>\n",
       "      <td>700</td>\n",
       "      <td>1880</td>\n",
       "    </tr>\n",
       "    <tr>\n",
       "      <th>...</th>\n",
       "      <td>...</td>\n",
       "      <td>...</td>\n",
       "      <td>...</td>\n",
       "      <td>...</td>\n",
       "    </tr>\n",
       "    <tr>\n",
       "      <th>33014</th>\n",
       "      <td>Zedrick</td>\n",
       "      <td>M</td>\n",
       "      <td>5</td>\n",
       "      <td>2014</td>\n",
       "    </tr>\n",
       "    <tr>\n",
       "      <th>33015</th>\n",
       "      <td>Zeid</td>\n",
       "      <td>M</td>\n",
       "      <td>5</td>\n",
       "      <td>2014</td>\n",
       "    </tr>\n",
       "    <tr>\n",
       "      <th>33016</th>\n",
       "      <td>Zeidan</td>\n",
       "      <td>M</td>\n",
       "      <td>5</td>\n",
       "      <td>2014</td>\n",
       "    </tr>\n",
       "    <tr>\n",
       "      <th>33017</th>\n",
       "      <td>Zekeriah</td>\n",
       "      <td>M</td>\n",
       "      <td>5</td>\n",
       "      <td>2014</td>\n",
       "    </tr>\n",
       "    <tr>\n",
       "      <th>33018</th>\n",
       "      <td>Zenas</td>\n",
       "      <td>M</td>\n",
       "      <td>5</td>\n",
       "      <td>2014</td>\n",
       "    </tr>\n",
       "    <tr>\n",
       "      <th>33019</th>\n",
       "      <td>Zephen</td>\n",
       "      <td>M</td>\n",
       "      <td>5</td>\n",
       "      <td>2014</td>\n",
       "    </tr>\n",
       "    <tr>\n",
       "      <th>33020</th>\n",
       "      <td>Zerick</td>\n",
       "      <td>M</td>\n",
       "      <td>5</td>\n",
       "      <td>2014</td>\n",
       "    </tr>\n",
       "    <tr>\n",
       "      <th>33021</th>\n",
       "      <td>Zhaiden</td>\n",
       "      <td>M</td>\n",
       "      <td>5</td>\n",
       "      <td>2014</td>\n",
       "    </tr>\n",
       "    <tr>\n",
       "      <th>33022</th>\n",
       "      <td>Zhalen</td>\n",
       "      <td>M</td>\n",
       "      <td>5</td>\n",
       "      <td>2014</td>\n",
       "    </tr>\n",
       "    <tr>\n",
       "      <th>33023</th>\n",
       "      <td>Zhayden</td>\n",
       "      <td>M</td>\n",
       "      <td>5</td>\n",
       "      <td>2014</td>\n",
       "    </tr>\n",
       "    <tr>\n",
       "      <th>33024</th>\n",
       "      <td>Ziar</td>\n",
       "      <td>M</td>\n",
       "      <td>5</td>\n",
       "      <td>2014</td>\n",
       "    </tr>\n",
       "    <tr>\n",
       "      <th>33025</th>\n",
       "      <td>Zichen</td>\n",
       "      <td>M</td>\n",
       "      <td>5</td>\n",
       "      <td>2014</td>\n",
       "    </tr>\n",
       "    <tr>\n",
       "      <th>33026</th>\n",
       "      <td>Ziden</td>\n",
       "      <td>M</td>\n",
       "      <td>5</td>\n",
       "      <td>2014</td>\n",
       "    </tr>\n",
       "    <tr>\n",
       "      <th>33027</th>\n",
       "      <td>Zierre</td>\n",
       "      <td>M</td>\n",
       "      <td>5</td>\n",
       "      <td>2014</td>\n",
       "    </tr>\n",
       "    <tr>\n",
       "      <th>33028</th>\n",
       "      <td>Ziion</td>\n",
       "      <td>M</td>\n",
       "      <td>5</td>\n",
       "      <td>2014</td>\n",
       "    </tr>\n",
       "    <tr>\n",
       "      <th>33029</th>\n",
       "      <td>Zijun</td>\n",
       "      <td>M</td>\n",
       "      <td>5</td>\n",
       "      <td>2014</td>\n",
       "    </tr>\n",
       "    <tr>\n",
       "      <th>33030</th>\n",
       "      <td>Zilas</td>\n",
       "      <td>M</td>\n",
       "      <td>5</td>\n",
       "      <td>2014</td>\n",
       "    </tr>\n",
       "    <tr>\n",
       "      <th>33031</th>\n",
       "      <td>Zirui</td>\n",
       "      <td>M</td>\n",
       "      <td>5</td>\n",
       "      <td>2014</td>\n",
       "    </tr>\n",
       "    <tr>\n",
       "      <th>33032</th>\n",
       "      <td>Zivon</td>\n",
       "      <td>M</td>\n",
       "      <td>5</td>\n",
       "      <td>2014</td>\n",
       "    </tr>\n",
       "    <tr>\n",
       "      <th>33033</th>\n",
       "      <td>Ziyah</td>\n",
       "      <td>M</td>\n",
       "      <td>5</td>\n",
       "      <td>2014</td>\n",
       "    </tr>\n",
       "    <tr>\n",
       "      <th>33034</th>\n",
       "      <td>Ziyang</td>\n",
       "      <td>M</td>\n",
       "      <td>5</td>\n",
       "      <td>2014</td>\n",
       "    </tr>\n",
       "    <tr>\n",
       "      <th>33035</th>\n",
       "      <td>Zmarion</td>\n",
       "      <td>M</td>\n",
       "      <td>5</td>\n",
       "      <td>2014</td>\n",
       "    </tr>\n",
       "    <tr>\n",
       "      <th>33036</th>\n",
       "      <td>Zo</td>\n",
       "      <td>M</td>\n",
       "      <td>5</td>\n",
       "      <td>2014</td>\n",
       "    </tr>\n",
       "    <tr>\n",
       "      <th>33037</th>\n",
       "      <td>Zyeir</td>\n",
       "      <td>M</td>\n",
       "      <td>5</td>\n",
       "      <td>2014</td>\n",
       "    </tr>\n",
       "    <tr>\n",
       "      <th>33038</th>\n",
       "      <td>Zyel</td>\n",
       "      <td>M</td>\n",
       "      <td>5</td>\n",
       "      <td>2014</td>\n",
       "    </tr>\n",
       "    <tr>\n",
       "      <th>33039</th>\n",
       "      <td>Zykeem</td>\n",
       "      <td>M</td>\n",
       "      <td>5</td>\n",
       "      <td>2014</td>\n",
       "    </tr>\n",
       "    <tr>\n",
       "      <th>33040</th>\n",
       "      <td>Zymeer</td>\n",
       "      <td>M</td>\n",
       "      <td>5</td>\n",
       "      <td>2014</td>\n",
       "    </tr>\n",
       "    <tr>\n",
       "      <th>33041</th>\n",
       "      <td>Zymiere</td>\n",
       "      <td>M</td>\n",
       "      <td>5</td>\n",
       "      <td>2014</td>\n",
       "    </tr>\n",
       "    <tr>\n",
       "      <th>33042</th>\n",
       "      <td>Zyran</td>\n",
       "      <td>M</td>\n",
       "      <td>5</td>\n",
       "      <td>2014</td>\n",
       "    </tr>\n",
       "    <tr>\n",
       "      <th>33043</th>\n",
       "      <td>Zyrin</td>\n",
       "      <td>M</td>\n",
       "      <td>5</td>\n",
       "      <td>2014</td>\n",
       "    </tr>\n",
       "  </tbody>\n",
       "</table>\n",
       "<p>1825433 rows × 4 columns</p>\n",
       "</div>"
      ],
      "text/plain": [
       "            name sex  number  year\n",
       "0           Mary   F    7065  1880\n",
       "1           Anna   F    2604  1880\n",
       "2           Emma   F    2003  1880\n",
       "3      Elizabeth   F    1939  1880\n",
       "4         Minnie   F    1746  1880\n",
       "5       Margaret   F    1578  1880\n",
       "6            Ida   F    1472  1880\n",
       "7          Alice   F    1414  1880\n",
       "8         Bertha   F    1320  1880\n",
       "9          Sarah   F    1288  1880\n",
       "10         Annie   F    1258  1880\n",
       "11         Clara   F    1226  1880\n",
       "12          Ella   F    1156  1880\n",
       "13      Florence   F    1063  1880\n",
       "14          Cora   F    1045  1880\n",
       "15        Martha   F    1040  1880\n",
       "16         Laura   F    1012  1880\n",
       "17        Nellie   F     995  1880\n",
       "18         Grace   F     982  1880\n",
       "19        Carrie   F     949  1880\n",
       "20         Maude   F     858  1880\n",
       "21         Mabel   F     808  1880\n",
       "22        Bessie   F     796  1880\n",
       "23        Jennie   F     793  1880\n",
       "24      Gertrude   F     787  1880\n",
       "25         Julia   F     783  1880\n",
       "26        Hattie   F     769  1880\n",
       "27         Edith   F     768  1880\n",
       "28        Mattie   F     704  1880\n",
       "29          Rose   F     700  1880\n",
       "...          ...  ..     ...   ...\n",
       "33014    Zedrick   M       5  2014\n",
       "33015       Zeid   M       5  2014\n",
       "33016     Zeidan   M       5  2014\n",
       "33017   Zekeriah   M       5  2014\n",
       "33018      Zenas   M       5  2014\n",
       "33019     Zephen   M       5  2014\n",
       "33020     Zerick   M       5  2014\n",
       "33021    Zhaiden   M       5  2014\n",
       "33022     Zhalen   M       5  2014\n",
       "33023    Zhayden   M       5  2014\n",
       "33024       Ziar   M       5  2014\n",
       "33025     Zichen   M       5  2014\n",
       "33026      Ziden   M       5  2014\n",
       "33027     Zierre   M       5  2014\n",
       "33028      Ziion   M       5  2014\n",
       "33029      Zijun   M       5  2014\n",
       "33030      Zilas   M       5  2014\n",
       "33031      Zirui   M       5  2014\n",
       "33032      Zivon   M       5  2014\n",
       "33033      Ziyah   M       5  2014\n",
       "33034     Ziyang   M       5  2014\n",
       "33035    Zmarion   M       5  2014\n",
       "33036         Zo   M       5  2014\n",
       "33037      Zyeir   M       5  2014\n",
       "33038       Zyel   M       5  2014\n",
       "33039     Zykeem   M       5  2014\n",
       "33040     Zymeer   M       5  2014\n",
       "33041    Zymiere   M       5  2014\n",
       "33042      Zyran   M       5  2014\n",
       "33043      Zyrin   M       5  2014\n",
       "\n",
       "[1825433 rows x 4 columns]"
      ]
     },
     "execution_count": 4,
     "metadata": {},
     "output_type": "execute_result"
    }
   ],
   "source": [
    "names_all = []\n",
    "\n",
    "for year in range(1880,2014+1):\n",
    "    names_all.append(pd.read_csv('names/yob{}.txt'.format(year),names=['name','sex','number']))\n",
    "    names_all[-1]['year'] = year\n",
    "\n",
    "allyears = pd.concat(names_all)\n",
    "allyears"
   ]
  },
  {
   "cell_type": "markdown",
   "metadata": {},
   "source": [
    "## Function to identify the most common boy and girl name given the year"
   ]
  },
  {
   "cell_type": "code",
   "execution_count": 5,
   "metadata": {},
   "outputs": [
    {
     "data": {
      "text/html": [
       "<div>\n",
       "<style scoped>\n",
       "    .dataframe tbody tr th:only-of-type {\n",
       "        vertical-align: middle;\n",
       "    }\n",
       "\n",
       "    .dataframe tbody tr th {\n",
       "        vertical-align: top;\n",
       "    }\n",
       "\n",
       "    .dataframe thead th {\n",
       "        text-align: right;\n",
       "    }\n",
       "</style>\n",
       "<table border=\"1\" class=\"dataframe\">\n",
       "  <thead>\n",
       "    <tr style=\"text-align: right;\">\n",
       "      <th></th>\n",
       "      <th></th>\n",
       "      <th>number</th>\n",
       "    </tr>\n",
       "    <tr>\n",
       "      <th>sex</th>\n",
       "      <th>name</th>\n",
       "      <th></th>\n",
       "    </tr>\n",
       "  </thead>\n",
       "  <tbody>\n",
       "    <tr>\n",
       "      <th>F</th>\n",
       "      <th>Emma</th>\n",
       "      <td>20799</td>\n",
       "    </tr>\n",
       "    <tr>\n",
       "      <th>M</th>\n",
       "      <th>Noah</th>\n",
       "      <td>19144</td>\n",
       "    </tr>\n",
       "  </tbody>\n",
       "</table>\n",
       "</div>"
      ],
      "text/plain": [
       "          number\n",
       "sex name        \n",
       "F   Emma   20799\n",
       "M   Noah   19144"
      ]
     },
     "execution_count": 5,
     "metadata": {},
     "output_type": "execute_result"
    }
   ],
   "source": [
    "\n",
    "def mostname(year):\n",
    "    \n",
    "    all_index = allyears.set_index('year')\n",
    "    year_df = all_index.loc[year]\n",
    "    #gp = year_df.set_index(['sex','name']).max(axis = 1,level=0).groupby('sex').head(1)\n",
    "    gp = year_df.set_index(['sex','name']).sort_values(by = 'number',ascending = False).groupby('sex').head(1) \n",
    "    \n",
    "    return gp\n",
    "\n",
    "mostname(2014)"
   ]
  },
  {
   "cell_type": "markdown",
   "metadata": {},
   "source": [
    "## Plot of 4 names and their usages across years"
   ]
  },
  {
   "cell_type": "code",
   "execution_count": 6,
   "metadata": {},
   "outputs": [
    {
     "data": {
      "text/plain": [
       "<matplotlib.legend.Legend at 0x24d0f106358>"
      ]
     },
     "execution_count": 6,
     "metadata": {},
     "output_type": "execute_result"
    },
    {
     "data": {
      "image/png": "[encoded data removed]",
      "text/plain": [
       "<Figure size 864x180 with 1 Axes>"
      ]
     },
     "metadata": {
      "needs_background": "light"
     },
     "output_type": "display_data"
    }
   ],
   "source": [
    "\n",
    "pp.figure(figsize=(12,2.5))\n",
    "\n",
    "names = ['John','Mary','James','Emily']\n",
    "#names = 'John'\n",
    "for name in names:\n",
    "    allyear_index = allyears.set_index(['name','year']).sort_index(ascending = False)\n",
    "    data = allyear_index.loc[name]\n",
    "#data\n",
    "    x = data.index\n",
    "    y = data['number']\n",
    "    pp.plot(x,y)\n",
    "pp.legend(names)\n",
    "    \n",
    "    \n",
    "        \n"
   ]
  },
  {
   "cell_type": "markdown",
   "metadata": {},
   "source": [
    "## Given the name and year to get the usage of names across genders"
   ]
  },
  {
   "cell_type": "code",
   "execution_count": 13,
   "metadata": {},
   "outputs": [
    {
     "data": {
      "text/html": [
       "<div>\n",
       "<style scoped>\n",
       "    .dataframe tbody tr th:only-of-type {\n",
       "        vertical-align: middle;\n",
       "    }\n",
       "\n",
       "    .dataframe tbody tr th {\n",
       "        vertical-align: top;\n",
       "    }\n",
       "\n",
       "    .dataframe thead th {\n",
       "        text-align: right;\n",
       "    }\n",
       "</style>\n",
       "<table border=\"1\" class=\"dataframe\">\n",
       "  <thead>\n",
       "    <tr style=\"text-align: right;\">\n",
       "      <th></th>\n",
       "      <th>sex</th>\n",
       "      <th>number</th>\n",
       "    </tr>\n",
       "    <tr>\n",
       "      <th>year</th>\n",
       "      <th></th>\n",
       "      <th></th>\n",
       "    </tr>\n",
       "  </thead>\n",
       "  <tbody>\n",
       "    <tr>\n",
       "      <th>2014</th>\n",
       "      <td>F</td>\n",
       "      <td>14</td>\n",
       "    </tr>\n",
       "    <tr>\n",
       "      <th>2014</th>\n",
       "      <td>M</td>\n",
       "      <td>10600</td>\n",
       "    </tr>\n",
       "  </tbody>\n",
       "</table>\n",
       "</div>"
      ],
      "text/plain": [
       "     sex  number\n",
       "year            \n",
       "2014   F      14\n",
       "2014   M   10600"
      ]
     },
     "execution_count": 13,
     "metadata": {},
     "output_type": "execute_result"
    }
   ],
   "source": [
    "\n",
    "names = 'John'\n",
    "year = 2014\n",
    "\n",
    "allyear_index = allyears.set_index(['name','year']).sort_index(ascending = False)\n",
    "data = allyear_index.loc[names].loc[year]\n",
    "data"
   ]
  },
  {
   "cell_type": "markdown",
   "metadata": {},
   "source": [
    "## Plot of name counts (with male and female counts summed up for an year) across years"
   ]
  },
  {
   "cell_type": "code",
   "execution_count": 14,
   "metadata": {},
   "outputs": [
    {
     "data": {
      "text/plain": [
       "[<matplotlib.lines.Line2D at 0x24d1443f0b8>]"
      ]
     },
     "execution_count": 14,
     "metadata": {},
     "output_type": "execute_result"
    },
    {
     "data": {
      "image/png": "[encoded data removed]",
      "text/plain": [
       "<Figure size 432x288 with 1 Axes>"
      ]
     },
     "metadata": {
      "needs_background": "light"
     },
     "output_type": "display_data"
    }
   ],
   "source": [
    "\n",
    "ally_index = allyears.set_index(['name','year','sex']).groupby(['year']).sum(axis = 1)\n",
    "ally_index\n",
    "pp.plot(ally_index.index,ally_index.values)\n"
   ]
  },
  {
   "cell_type": "markdown",
   "metadata": {},
   "source": [
    "## Plot of  male and female name counts across years"
   ]
  },
  {
   "cell_type": "code",
   "execution_count": 9,
   "metadata": {},
   "outputs": [
    {
     "data": {
      "text/plain": [
       "<matplotlib.legend.Legend at 0x24d0dae6470>"
      ]
     },
     "execution_count": 9,
     "metadata": {},
     "output_type": "execute_result"
    },
    {
     "data": {
      "image/png": "[encoded data removed]",
      "text/plain": [
       "<Figure size 432x288 with 1 Axes>"
      ]
     },
     "metadata": {
      "needs_background": "light"
     },
     "output_type": "display_data"
    }
   ],
   "source": [
    "\n",
    "ally_index = allyears.set_index(['name','year','sex']).groupby(['sex','year']).sum(axis = 1)\n",
    "ally_index\n",
    "\n",
    "sexes = ['M','F']\n",
    "for sex in sexes:\n",
    "    t = ally_index.loc[sex]\n",
    "    pp.plot(t.index,t.values)\n",
    "\n",
    "pp.legend(sexes)\n",
    "#pp.plot(ally_index.index,ally_index.values)"
   ]
  },
  {
   "cell_type": "markdown",
   "metadata": {},
   "source": [
    "## Sum count of male and female names from 1800-2014"
   ]
  },
  {
   "cell_type": "code",
   "execution_count": 10,
   "metadata": {},
   "outputs": [
    {
     "data": {
      "text/html": [
       "<div>\n",
       "<style scoped>\n",
       "    .dataframe tbody tr th:only-of-type {\n",
       "        vertical-align: middle;\n",
       "    }\n",
       "\n",
       "    .dataframe tbody tr th {\n",
       "        vertical-align: top;\n",
       "    }\n",
       "\n",
       "    .dataframe thead th {\n",
       "        text-align: right;\n",
       "    }\n",
       "</style>\n",
       "<table border=\"1\" class=\"dataframe\">\n",
       "  <thead>\n",
       "    <tr style=\"text-align: right;\">\n",
       "      <th></th>\n",
       "      <th>number</th>\n",
       "    </tr>\n",
       "    <tr>\n",
       "      <th>sex</th>\n",
       "      <th></th>\n",
       "    </tr>\n",
       "  </thead>\n",
       "  <tbody>\n",
       "    <tr>\n",
       "      <th>F</th>\n",
       "      <td>167070477</td>\n",
       "    </tr>\n",
       "    <tr>\n",
       "      <th>M</th>\n",
       "      <td>170064949</td>\n",
       "    </tr>\n",
       "  </tbody>\n",
       "</table>\n",
       "</div>"
      ],
      "text/plain": [
       "        number\n",
       "sex           \n",
       "F    167070477\n",
       "M    170064949"
      ]
     },
     "execution_count": 10,
     "metadata": {},
     "output_type": "execute_result"
    }
   ],
   "source": [
    "\n",
    "ally_index = allyears.set_index(['name','year','sex']).groupby(['sex']).sum(axis = 1)\n",
    "ally_index"
   ]
  },
  {
   "cell_type": "markdown",
   "metadata": {},
   "source": [
    "## Plot of a particular (unisex) name usage across years"
   ]
  },
  {
   "cell_type": "code",
   "execution_count": 11,
   "metadata": {},
   "outputs": [
    {
     "data": {
      "text/plain": [
       "<matplotlib.legend.Legend at 0x24d1282c780>"
      ]
     },
     "execution_count": 11,
     "metadata": {},
     "output_type": "execute_result"
    },
    {
     "data": {
      "image/png": "[encoded data removed]",
      "text/plain": [
       "<Figure size 432x288 with 1 Axes>"
      ]
     },
     "metadata": {
      "needs_background": "light"
     },
     "output_type": "display_data"
    }
   ],
   "source": [
    "\n",
    "ally_index = allyears.set_index(['name','sex','year']).loc['Kerry']\n",
    "#ally_index\n",
    "sexes = ['F','M']\n",
    "\n",
    "for sex in sexes:\n",
    "    t = ally_index.loc[sex]\n",
    "    pp.plot(t.index,t.values)\n",
    "\n",
    "pp.legend(sexes)"
   ]
  },
  {
   "cell_type": "markdown",
   "metadata": {},
   "source": [
    "## Plot of maximum count of male and female names across each year"
   ]
  },
  {
   "cell_type": "code",
   "execution_count": 12,
   "metadata": {},
   "outputs": [
    {
     "data": {
      "text/plain": [
       "<matplotlib.legend.Legend at 0x24d14398898>"
      ]
     },
     "execution_count": 12,
     "metadata": {},
     "output_type": "execute_result"
    },
    {
     "data": {
      "image/png": "[encoded data removed]",
      "text/plain": [
       "<Figure size 432x288 with 1 Axes>"
      ]
     },
     "metadata": {
      "needs_background": "light"
     },
     "output_type": "display_data"
    }
   ],
   "source": [
    "\n",
    "maxi_index = allyears.sort_values(['year','number'],ascending = [True,False]).groupby(['sex','year']).head(1)\n",
    "maxi_reindex = maxi_index.set_index(['sex','year'])\n",
    "maxi_reindex\n",
    "\n",
    "sexes = ['F','M']\n",
    "\n",
    "for sex in sexes:\n",
    "    t = maxi_reindex.loc[sex].drop('name',axis = 1)\n",
    "    pp.plot(t.index,t.values)\n",
    "\n",
    "pp.legend(sexes)\n",
    "\n"
   ]
  }
 ],
 "metadata": {
  "kernelspec": {
   "display_name": "Python 3",
   "language": "python",
   "name": "python3"
  },
  "language_info": {
   "codemirror_mode": {
    "name": "ipython",
    "version": 3
   },
   "file_extension": ".py",
   "mimetype": "text/x-python",
   "name": "python",
   "nbconvert_exporter": "python",
   "pygments_lexer": "ipython3",
   "version": "3.7.1"
  }
 },
 "nbformat": 4,
 "nbformat_minor": 2
}
