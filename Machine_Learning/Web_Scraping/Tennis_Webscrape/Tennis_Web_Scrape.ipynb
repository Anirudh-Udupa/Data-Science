{
 "cells": [
  {
   "cell_type": "code",
   "execution_count": 1,
   "metadata": {},
   "outputs": [],
   "source": [
    "import pandas as pd\n",
    "import re\n",
    "import requests\n",
    "from bs4 import BeautifulSoup"
   ]
  },
  {
   "cell_type": "code",
   "execution_count": 26,
   "metadata": {},
   "outputs": [
    {
     "name": "stdout",
     "output_type": "stream",
     "text": [
      "  Country                                           Source  \\\n",
      "0     SRB         /en/players/novak-djokovic/d643/overview   \n",
      "1     ESP           /en/players/rafael-nadal/n409/overview   \n",
      "2     GER       /en/players/alexander-zverev/z355/overview   \n",
      "3     SUI          /en/players/roger-federer/f324/overview   \n",
      "4     ARG  /en/players/juan-martin-del-potro/d683/overview   \n",
      "\n",
      "                    Name Age  Win-Loss Titles   Prize Money  \n",
      "0         Novak Djokovic  31   846-176     73  $128,804,799  \n",
      "1           Rafael Nadal  32   925-191     80  $104,754,905  \n",
      "2       Alexander Zverev  21    184-91     10   $16,177,835  \n",
      "3          Roger Federer  37  1188-261    100  $121,268,063  \n",
      "4  Juan Martin del Potro  30   433-170     22   $25,375,273  \n"
     ]
    }
   ],
   "source": [
    "base_url = \"https://www.atptour.com/en/rankings/singles\"\n",
    "columns = ['Country','Source','Name','Age']\n",
    "data = pd.DataFrame(columns = columns)\n",
    "\n",
    "proxies = {\n",
    "  'http': 'www-proxy.us.oracle.com:80',\n",
    "  'https': 'www-proxy.us.oracle.com:80',\n",
    "}\n",
    "\n",
    "url = base_url \n",
    "source_code = requests.get(url,proxies=proxies)\n",
    "plain_text = source_code.text\n",
    "soup = BeautifulSoup(plain_text, 'html.parser')\n",
    "table_body = soup.find('tbody')\n",
    "for row in table_body.findAll('tr'):\n",
    "        td = row.findAll('td')\n",
    "        country = td[2].find('img').get('alt')\n",
    "        source = td[3].find('a').get('href')\n",
    "        name = td[3].find('a').text\n",
    "        age = td[4].text.strip()\n",
    "        player_data = pd.DataFrame([[country,source,name,age]])\n",
    "        player_data.columns = columns\n",
    "        data = data.append(player_data, ignore_index=True)\n",
    "data = data.drop_duplicates()\n",
    "\n",
    "# Get detailed player information from player page\n",
    "detailed_columns = ['Win-Loss', 'Titles', 'Prize Money','Source']\n",
    "detailed_data = pd.DataFrame(index = range(0, 100), columns = detailed_columns)\n",
    "detailed_data.Source = data.Source.values\n",
    "#print(detailed_data)\n",
    "\n",
    "player_data_url = 'https://www.atptour.com'\n",
    "for id in data.Source:\n",
    "    url = player_data_url + str(id)\n",
    "    source_code = requests.get(url,proxies=proxies)\n",
    "    plain_text = source_code.text\n",
    "    soup = BeautifulSoup(plain_text, 'html.parser')\n",
    "    div_class = soup.find('div', {'class': 'overview-stats-table-wrapper'})\n",
    "    table_def = div_class.find('table',{'class':'players-stats-table'})\n",
    "    table_body = table_def.find('tbody')\n",
    "    row = table_body.findAll('tr')\n",
    "    td = row[1].findAll('td')\n",
    "    Win_loss = td[2].find('div').get('data-singles')\n",
    "    Titles = td[3].find('div').get('data-singles')\n",
    "    Prize_money = td[4].find('div').get('data-singles')\n",
    "    \n",
    "    detailed_data.loc[detailed_data.Source == id, 'Win-Loss'] = Win_loss\n",
    "    detailed_data.loc[detailed_data.Source == id, 'Titles'] = Titles\n",
    "    detailed_data.loc[detailed_data.Source == id, 'Prize Money'] = Prize_money\n",
    "detailed_data = detailed_data.drop_duplicates()\n",
    "#print(detailed_data.head(5))\n",
    "full_data = pd.merge(data, detailed_data, how = 'inner', on = 'Source')\n",
    "print(full_data.head(5))\n",
    "#full_data.to_csv('data.csv', encoding='utf-8-sig')  \n",
    "    \n",
    "        "
   ]
  }
 ],
 "metadata": {
  "kernelspec": {
   "display_name": "Python 3",
   "language": "python",
   "name": "python3"
  },
  "language_info": {
   "codemirror_mode": {
    "name": "ipython",
    "version": 3
   },
   "file_extension": ".py",
   "mimetype": "text/x-python",
   "name": "python",
   "nbconvert_exporter": "python",
   "pygments_lexer": "ipython3",
   "version": "3.7.1"
  }
 },
 "nbformat": 4,
 "nbformat_minor": 2
}
