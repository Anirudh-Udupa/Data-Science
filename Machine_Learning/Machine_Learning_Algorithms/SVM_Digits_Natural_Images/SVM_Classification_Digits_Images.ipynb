{
 "cells": [
  {
   "cell_type": "markdown",
   "metadata": {},
   "source": [
    "# SVM Usecases"
   ]
  },
  {
   "cell_type": "markdown",
   "metadata": {},
   "source": [
    "## Classifying handwritten digits"
   ]
  },
  {
   "cell_type": "code",
   "execution_count": 1,
   "metadata": {},
   "outputs": [
    {
     "name": "stdout",
     "output_type": "stream",
     "text": [
      "{'__header__': b'MATLAB 5.0 MAT-file Platform: posix, Created on: Sun Mar 30 03:19:02 2014', '__version__': '1.0', '__globals__': [], 'mldata_descr_ordering': array([[array(['label'], dtype='<U5'), array(['data'], dtype='<U4')]],\n",
      "      dtype=object), 'data': array([[0, 0, 0, ..., 0, 0, 0],\n",
      "       [0, 0, 0, ..., 0, 0, 0],\n",
      "       [0, 0, 0, ..., 0, 0, 0],\n",
      "       ...,\n",
      "       [0, 0, 0, ..., 0, 0, 0],\n",
      "       [0, 0, 0, ..., 0, 0, 0],\n",
      "       [0, 0, 0, ..., 0, 0, 0]], dtype=uint8), 'label': array([[0., 0., 0., ..., 9., 9., 9.]])}\n"
     ]
    },
    {
     "data": {
      "text/plain": [
       "<Figure size 640x480 with 15 Axes>"
      ]
     },
     "metadata": {},
     "output_type": "display_data"
    }
   ],
   "source": [
    "import matplotlib.pyplot as plt\n",
    "from scipy.io import loadmat\n",
    "import matplotlib.cm as cm\n",
    "from mnist import MNIST\n",
    "\n",
    "#mnist = MNIST('D:\\Anaconda\\Lib\\site-packages\\mnist')\n",
    "#mnist = fetch_mldata('MNIST original',data_home='data/mnist')\n",
    "#mnist = fetch_openml('mnist-original', version=1, cache=True)\n",
    "mnist = loadmat(\"C:\\\\Users\\\\agudupa\\\\scikit_learn_data\\\\mldata\\\\mnist-original.mat\")\n",
    "print(mnist)\n",
    "mnist_data = mnist[\"data\"].T\n",
    "mnist_label = mnist[\"label\"].T\n",
    "\n",
    "counter=1\n",
    "for i in range(1,4):\n",
    "    for j in range(1,6):\n",
    "        plt.subplot(3,5,counter)\n",
    "        #plt.imshow(mnist.data[(i - 1) * 8000 + j].reshape((28,28)),cmap=cm.Greys_r)\n",
    "        plt.imshow(mnist_data[(i - 1) * 8000 + j].reshape((28,28)),cmap=cm.Greys_r)\n",
    "        plt.axis('off')\n",
    "        counter+=1\n",
    "plt.show()"
   ]
  },
  {
   "cell_type": "code",
   "execution_count": 2,
   "metadata": {},
   "outputs": [
    {
     "name": "stdout",
     "output_type": "stream",
     "text": [
      "C:\\Users\\agudupa\\scikit_learn_data\n"
     ]
    }
   ],
   "source": [
    "from sklearn.datasets.base import get_data_home \n",
    "print (get_data_home())"
   ]
  },
  {
   "cell_type": "code",
   "execution_count": 3,
   "metadata": {},
   "outputs": [
    {
     "name": "stderr",
     "output_type": "stream",
     "text": [
      "D:\\Anaconda\\lib\\site-packages\\sklearn\\model_selection\\_split.py:2053: FutureWarning: You should specify a value for 'cv' instead of relying on the default value. The default value will change from 3 to 5 in version 0.22.\n",
      "  warnings.warn(CV_WARNING, FutureWarning)\n",
      "[Parallel(n_jobs=2)]: Using backend LokyBackend with 2 concurrent workers.\n"
     ]
    },
    {
     "name": "stdout",
     "output_type": "stream",
     "text": [
      "Fitting 3 folds for each of 30 candidates, totalling 90 fits\n"
     ]
    },
    {
     "name": "stderr",
     "output_type": "stream",
     "text": [
      "[Parallel(n_jobs=2)]: Done  46 tasks      | elapsed: 115.2min\n",
      "[Parallel(n_jobs=2)]: Done  90 out of  90 | elapsed: 187.6min finished\n",
      "D:\\Anaconda\\lib\\site-packages\\sklearn\\utils\\validation.py:761: DataConversionWarning: A column-vector y was passed when a 1d array was expected. Please change the shape of y to (n_samples, ), for example using ravel().\n",
      "  y = column_or_1d(y, warn=True)\n"
     ]
    },
    {
     "name": "stdout",
     "output_type": "stream",
     "text": [
      "Best score: 0.963\n",
      "Best parameters set:\n"
     ]
    },
    {
     "ename": "NameError",
     "evalue": "name 'parameter' is not defined",
     "output_type": "error",
     "traceback": [
      "\u001b[1;31m---------------------------------------------------------------------------\u001b[0m",
      "\u001b[1;31mNameError\u001b[0m                                 Traceback (most recent call last)",
      "\u001b[1;32m<ipython-input-3-ad524e42fc0b>\u001b[0m in \u001b[0;36m<module>\u001b[1;34m\u001b[0m\n\u001b[0;32m     25\u001b[0m     \u001b[0mprint\u001b[0m\u001b[1;33m(\u001b[0m\u001b[1;34m'Best parameters set:'\u001b[0m\u001b[1;33m)\u001b[0m\u001b[1;33m\u001b[0m\u001b[1;33m\u001b[0m\u001b[0m\n\u001b[0;32m     26\u001b[0m     \u001b[0mbest_parameters\u001b[0m \u001b[1;33m=\u001b[0m \u001b[0mgrid_search\u001b[0m\u001b[1;33m.\u001b[0m\u001b[0mbest_estimator_\u001b[0m\u001b[1;33m.\u001b[0m\u001b[0mget_params\u001b[0m\u001b[1;33m(\u001b[0m\u001b[1;33m)\u001b[0m\u001b[1;33m\u001b[0m\u001b[1;33m\u001b[0m\u001b[0m\n\u001b[1;32m---> 27\u001b[1;33m     \u001b[1;32mfor\u001b[0m \u001b[0mparam_name\u001b[0m \u001b[1;32min\u001b[0m \u001b[0msorted\u001b[0m\u001b[1;33m(\u001b[0m\u001b[0mparameter\u001b[0m\u001b[1;33m.\u001b[0m\u001b[0mkeys\u001b[0m\u001b[1;33m(\u001b[0m\u001b[1;33m)\u001b[0m\u001b[1;33m)\u001b[0m\u001b[1;33m:\u001b[0m\u001b[1;33m\u001b[0m\u001b[1;33m\u001b[0m\u001b[0m\n\u001b[0m\u001b[0;32m     28\u001b[0m         \u001b[0mprint\u001b[0m\u001b[1;33m(\u001b[0m\u001b[1;34m'\\t%s: %r'\u001b[0m \u001b[1;33m%\u001b[0m \u001b[1;33m(\u001b[0m\u001b[0mparam_name\u001b[0m\u001b[1;33m,\u001b[0m\u001b[0mbest_parameters\u001b[0m\u001b[1;33m[\u001b[0m\u001b[0mparam_name\u001b[0m\u001b[1;33m]\u001b[0m\u001b[1;33m)\u001b[0m\u001b[1;33m)\u001b[0m\u001b[1;33m\u001b[0m\u001b[1;33m\u001b[0m\u001b[0m\n",
      "\u001b[1;31mNameError\u001b[0m: name 'parameter' is not defined"
     ]
    }
   ],
   "source": [
    "from sklearn.pipeline import Pipeline\n",
    "from sklearn.preprocessing import scale\n",
    "from sklearn.model_selection import train_test_split\n",
    "from sklearn.svm import SVC\n",
    "from sklearn.model_selection import GridSearchCV\n",
    "from sklearn.metrics import classification_report\n",
    "\n",
    "if __name__ == '__main__':\n",
    "    X,y = mnist_data,mnist_label\n",
    "    X=X/255.0*2 - 1\n",
    "    X_train, X_test, y_train, y_test = train_test_split(X,y,random_state = 11)\n",
    "    \n",
    "    pipeline = Pipeline([\n",
    "        ('clf', SVC(kernel='rbf', gamma = 0.01, C=100))\n",
    "    ])\n",
    "    \n",
    "    parameters = {\n",
    "        'clf__gamma': (0.01,0.03,0.1,0.3,1),\n",
    "        'clf__C': (0.1,0.3,1,3,10,30),\n",
    "    }\n",
    "    \n",
    "    grid_search = GridSearchCV(pipeline,parameters,n_jobs=2,verbose=1,scoring='accuracy')\n",
    "    grid_search.fit(X_train[:10000],y_train[:10000])\n",
    "    print('Best score: %0.3f' % grid_search.best_score_)\n",
    "    print('Best parameters set:')\n",
    "    best_parameters = grid_search.best_estimator_.get_params()\n",
    "    for param_name in sorted(parameters.keys()):\n",
    "        print('\\t%s: %r' % (param_name,best_parameters[param_name]))"
   ]
  },
  {
   "cell_type": "markdown",
   "metadata": {},
   "source": [
    "## Classifying characters in natural images"
   ]
  },
  {
   "cell_type": "code",
   "execution_count": null,
   "metadata": {},
   "outputs": [],
   "source": [
    "import os\n",
    "import numpy as np\n",
    "from sklearn.pipeline import Pipeline\n",
    "from sklearn.svm import SVC\n",
    "from sklearn.model_selection import train_test_split\n",
    "from sklearn.model_selection import GridSearchCV\n",
    "from sklearn.metrics import classification_report\n",
    "from PIL import Image\n",
    "\n",
    "X=[]\n",
    "y=[]\n",
    "\n",
    "rootdir = 'D:/OSSI/Others/Lynda/Projects/Data Science/Machine_Learning/Machine_Learning_Algorithms/SVM_Digits_Natural_Images/English/Img/GoodImg/Bmp/'\n",
    "\n",
    "for path, subdirs, files in os.walk(rootdir):\n",
    "    #print(root)\n",
    "    for filename in files:\n",
    "        f = os.path.join(path,filename)\n",
    "        target = filename[3:filename.index('-')]\n",
    "        img = Image.open(f).convert('L').resize((30,30),resample=Image.LANCZOS)\n",
    "        #print(f)\n",
    "        X.append(np.array(img).reshape(900,))\n",
    "        y.append(target)\n",
    "X=np.array(X)\n",
    "print(X)\n"
   ]
  },
  {
   "cell_type": "code",
   "execution_count": null,
   "metadata": {},
   "outputs": [],
   "source": [
    "X_train, X_test, y_train, y_test = train_test_split(X,y,test_size=.1,random_state = 11)\n",
    "    \n",
    "pipeline = Pipeline([\n",
    "('clf', SVC(kernel='rbf', gamma = 0.01, C=100))\n",
    "])\n",
    "    \n",
    "parameters = {\n",
    "'clf__gamma': (0.01,0.03,0.1,0.3,1),\n",
    "'clf__C': (0.1,0.3,1,3,10,30),\n",
    "}\n",
    "\n",
    "if __name__ == '__main__':\n",
    "    grid_search = GridSearchCV(pipeline,parameters,n_jobs=2,verbose=1,scoring='accuracy')\n",
    "    grid_search.fit(X_train,y_train)\n",
    "    print('Best score: %0.3f' % grid_search.best_score_)\n",
    "    print('Best parameters set:')\n",
    "    best_parameters = grid_search.best_estimator_.get_params()\n",
    "    for param_name in sorted(parameter.keys()):\n",
    "        print('\\t%s: %r' % (param_name,best_parameters[param_name]))\n",
    "    predictions = grid_search.predict(X_test)\n",
    "    print(classification_report(y_test,predictions))"
   ]
  }
 ],
 "metadata": {
  "kernelspec": {
   "display_name": "Python 3",
   "language": "python",
   "name": "python3"
  },
  "language_info": {
   "codemirror_mode": {
    "name": "ipython",
    "version": 3
   },
   "file_extension": ".py",
   "mimetype": "text/x-python",
   "name": "python",
   "nbconvert_exporter": "python",
   "pygments_lexer": "ipython3",
   "version": "3.7.1"
  }
 },
 "nbformat": 4,
 "nbformat_minor": 2
}
