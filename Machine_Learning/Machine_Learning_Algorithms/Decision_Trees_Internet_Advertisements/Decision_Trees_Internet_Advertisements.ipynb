{
 "cells": [
  {
   "cell_type": "markdown",
   "metadata": {},
   "source": [
    "# Decision Trees"
   ]
  },
  {
   "cell_type": "code",
   "execution_count": 7,
   "metadata": {},
   "outputs": [
    {
     "name": "stderr",
     "output_type": "stream",
     "text": [
      "D:\\Anaconda\\lib\\site-packages\\sklearn\\model_selection\\_split.py:2053: FutureWarning: You should specify a value for 'cv' instead of relying on the default value. The default value will change from 3 to 5 in version 0.22.\n",
      "  warnings.warn(CV_WARNING, FutureWarning)\n",
      "[Parallel(n_jobs=-1)]: Using backend LokyBackend with 4 concurrent workers.\n"
     ]
    },
    {
     "name": "stdout",
     "output_type": "stream",
     "text": [
      "Fitting 3 folds for each of 18 candidates, totalling 54 fits\n"
     ]
    },
    {
     "name": "stderr",
     "output_type": "stream",
     "text": [
      "[Parallel(n_jobs=-1)]: Done  42 tasks      | elapsed:   11.3s\n",
      "[Parallel(n_jobs=-1)]: Done  54 out of  54 | elapsed:   12.7s finished\n"
     ]
    },
    {
     "name": "stdout",
     "output_type": "stream",
     "text": [
      "Best score: 0.888\n",
      "Best parameters set:\n",
      "tclf__max_depth: 160\n",
      "tclf__min_samples_leaf: 1\n",
      "tclf__min_samples_split: 3\n",
      "              precision    recall  f1-score   support\n",
      "\n",
      "           0       0.97      0.99      0.98       698\n",
      "           1       0.95      0.84      0.90       122\n",
      "\n",
      "   micro avg       0.97      0.97      0.97       820\n",
      "   macro avg       0.96      0.92      0.94       820\n",
      "weighted avg       0.97      0.97      0.97       820\n",
      "\n"
     ]
    }
   ],
   "source": [
    "import pandas as pd\n",
    "from sklearn.tree import DecisionTreeClassifier\n",
    "from sklearn.model_selection import train_test_split\n",
    "from sklearn.metrics import classification_report\n",
    "from sklearn.pipeline import Pipeline\n",
    "from sklearn.model_selection import GridSearchCV\n",
    "\n",
    "df = pd.read_csv('D:\\\\OSSI\\\\Others\\\\Lynda\\\\Projects\\\\Data Science\\\\Machine_Learning\\\\Machine_Learning_Algorithms\\\\Decision_Trees_Internet_Advertisements\\\\ad.data',header=None)\n",
    "explanatory_variable_columns = set(df.columns.values)\n",
    "explanatory_variable_columns.remove(len(df.columns.values)-1)\n",
    "response_variable_column = df[len(df.columns.values)-1]\n",
    "\n",
    "y=[1 if e == 'ad.' else 0 for e in response_variable_column]\n",
    "X=df[list(explanatory_variable_columns)].copy()\n",
    "X.replace(to_replace=' *?',value=-1,regex=True,inplace=True)\n",
    "X_train, X_test, y_train, y_test = train_test_split(X,y)\n",
    "\n",
    "pipeline = Pipeline([\n",
    "    ('clf', DecisionTreeClassifier(criterion = 'entropy'))\n",
    "])\n",
    "\n",
    "parameters = {\n",
    "    'clf__max_depth': (150,155,160),\n",
    "    'clf__min_samples_split': (2,3),\n",
    "    'clf__min_samples_leaf': (1,2,3)\n",
    "}\n",
    "\n",
    "grid_search = GridSearchCV(pipeline,parameters,n_jobs=-1,verbose=1, scoring = 'f1')\n",
    "grid_search.fit(X_train,y_train)\n",
    "\n",
    "best_parameters = grid_search.best_estimator_.get_params()\n",
    "print('Best score: %0.3f' % grid_search.best_score_)\n",
    "print('Best parameters set:')\n",
    "for param_name in sorted(parameters.keys()):\n",
    "    print('t%s: %r' % (param_name, best_parameters[param_name]))\n",
    "    \n",
    "predictions = grid_search.predict(X_test)\n",
    "print(classification_report(y_test, predictions))\n"
   ]
  }
 ],
 "metadata": {
  "kernelspec": {
   "display_name": "Python 3",
   "language": "python",
   "name": "python3"
  },
  "language_info": {
   "codemirror_mode": {
    "name": "ipython",
    "version": 3
   },
   "file_extension": ".py",
   "mimetype": "text/x-python",
   "name": "python",
   "nbconvert_exporter": "python",
   "pygments_lexer": "ipython3",
   "version": "3.7.1"
  }
 },
 "nbformat": 4,
 "nbformat_minor": 2
}
